{
 "cells": [
  {
   "cell_type": "code",
   "execution_count": 3,
   "metadata": {},
   "outputs": [],
   "source": [
    "import pandas as pd\n",
    "import math\n",
    "df = pd.read_csv('tmpf9ydpbah.csv', delimiter = ',')\n",
    "df = df[['OFFENSE_CODE_GROUP', 'Lat', 'Long']]\n",
    "crimes = df.groupby(['OFFENSE_CODE_GROUP'])['Lat'].count().index\n",
    "\n",
    "import os\n",
    "import shutil\n",
    "folder = 'TextFiles'\n",
    "#clean the coordinates directory as safety precaution\n",
    "for the_file in os.listdir(folder):\n",
    "    file_path = os.path.join(folder, the_file)\n",
    "    try:\n",
    "        if os.path.isfile(file_path):\n",
    "            os.unlink(file_path)\n",
    "    except Exception as e:\n",
    "        pass\n",
    "#creates coordinate txt files for all crimes with 100+ coord points\n",
    "for crime in crimes:\n",
    "    crime_data = df[df['OFFENSE_CODE_GROUP'] == crime]\n",
    "    crime_data.index = range(crime_data.shape[0])\n",
    "    if crime_data.shape[0] < 100:\n",
    "        continue\n",
    "    crime_coords = []\n",
    "    for i in range(crime_data.shape[0]):\n",
    "        if math.isnan(float(crime_data.iloc[i]['Lat'])):\n",
    "            continue\n",
    "        if float(crime_data.iloc[i]['Lat']) == -1.0:\n",
    "            continue\n",
    "        coord = (round(float(crime_data.iloc[i]['Lat']), 6), round(float(crime_data.iloc[i]['Long']), 6))\n",
    "        if i < (crime_data.shape[0] - 1):\n",
    "            crime_coords.append('new google.maps.LatLng' +  str(coord) + ',')\n",
    "        else:\n",
    "            crime_coords.append('new google.maps.LatLng' +  str(coord))\n",
    "    file_name = crime\n",
    "    if '/' in file_name:\n",
    "        file_name = file_name.replace('/', '-')\n",
    "    if ' ' in file_name:\n",
    "        file_name = file_name.replace(' ', '_')\n",
    "    file_name = file_name.lower() + '.txt'\n",
    "    file = open('TextFiles/' + file_name, 'w+')\n",
    "    for i in range(len(crime_coords)):\n",
    "        file.write(crime_coords[i] + '\\n')\n",
    "    file.close()"
   ]
  },
  {
   "cell_type": "code",
   "execution_count": null,
   "metadata": {},
   "outputs": [],
   "source": []
  }
 ],
 "metadata": {
  "kernelspec": {
   "display_name": "Python 3",
   "language": "python",
   "name": "python3"
  },
  "language_info": {
   "codemirror_mode": {
    "name": "ipython",
    "version": 3
   },
   "file_extension": ".py",
   "mimetype": "text/x-python",
   "name": "python",
   "nbconvert_exporter": "python",
   "pygments_lexer": "ipython3",
   "version": "3.7.4"
  }
 },
 "nbformat": 4,
 "nbformat_minor": 2
}
